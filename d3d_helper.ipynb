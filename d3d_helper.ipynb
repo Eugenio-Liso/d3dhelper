{
 "cells": [
  {
   "cell_type": "markdown",
   "metadata": {},
   "source": [
    "# D3D Helper\n",
    "\n",
    "Unofficial example code for using a pre-trained Distilled 3D Network (D3D) for video classification. For more details, please refer to the paper:\n",
    "\n",
    "\"D3D: Distilled 3D Networks for Video Action Recognition.\"  \n",
    "_Jonathan C. Stroud, David A. Ross, Chen Sun, Jia Deng, and Rahul Sukthankar._  \n",
    "[arXiv 2018](https://arxiv.org/abs/1812.08249)\n",
    "\n",
    "## Prerequisites\n",
    "\n",
    "1. Tensorflow 1.12\n",
    "2. imageio\n",
    "3. skimage\n",
    "2. Place model checkpoints from [Google Drive](https://drive.google.com/drive/folders/1Yb-g-Ae_B4tyM7N7bk0kRd2r5ChO-oa3?usp=sharing) and place them in `d3dhelper/weights/<model_name>`.\n",
    "\n",
    "For example, if you download `d3d_kinetics_600` and unzip it in the correct folder, the output tree will be:\n",
    "```\n",
    "weights\n",
    "└── d3d_kinetics_600\n",
    "    ├── model.ckpt.data-00000-of-00001\n",
    "    ├── model.ckpt.index\n",
    "    └── model.ckpt.meta\n",
    "```    \n",
    "Make sure to change the variable `_MODEL_CKPT` to load the new model (along with the other variables that changes the input dataset and the network type, for example)"
   ]
  },
  {
   "cell_type": "code",
   "execution_count": null,
   "metadata": {},
   "outputs": [],
   "source": [
    "import sys\n",
    "import imageio\n",
    "import numpy as np\n",
    "import skimage.transform\n",
    "import tensorflow as tf\n",
    "import matplotlib.pyplot as plt\n",
    "import time\n",
    "%matplotlib inline\n",
    "\n",
    "sys.path.append('./models/research/slim')\n",
    "from nets import i3d\n",
    "from nets import s3dg\n",
    "arg_scope = tf.contrib.framework.arg_scope\n",
    "\n",
    "# Model options\n",
    "_NET_TYPE = 's3dg'  # Options: 's3dg', 'i3d'\n",
    "_DATASET = 'kinetics_600'  # Options: 'kinetics_400', 'kinetics_600'\n",
    "_MODEL_CKPT = './weights/d3d_kinetics_600/model.ckpt'"
   ]
  },
  {
   "cell_type": "markdown",
   "metadata": {},
   "source": [
    "## Load sample videos"
   ]
  },
  {
   "cell_type": "code",
   "execution_count": null,
   "metadata": {},
   "outputs": [],
   "source": [
    "def load_video(fn, num_frames, input_size):\n",
    "\n",
    "    video = np.ndarray((1, num_frames, input_size, input_size, 3), np.float32)\n",
    "    reader = imageio.get_reader(fn)\n",
    "\n",
    "    for i, im in zip(range(num_frames), reader):\n",
    "        # Convert to float\n",
    "        im = im / 255\n",
    "        # Scale\n",
    "        h, w = im.shape[:2]\n",
    "        min_side = min(h, w)\n",
    "        scale_factor = input_size/min_side\n",
    "        im = skimage.transform.resize(im, (int(h*scale_factor), int(w*scale_factor)))\n",
    "        # Center crop\n",
    "        h, w = im.shape[:2]\n",
    "        im = im[(h-input_size)//2:(h+input_size)//2,\n",
    "                (w-input_size)//2:(w+input_size)//2]\n",
    "        video[:, i] = im\n",
    "        \n",
    "    return video"
   ]
  },
  {
   "cell_type": "code",
   "execution_count": null,
   "metadata": {},
   "outputs": [],
   "source": [
    "# Video options\n",
    "_INPUT_SIZE = 224\n",
    "_NUM_FRAMES = 64\n",
    "\n",
    "abseiling = load_video('abseiling.mp4', _NUM_FRAMES, _INPUT_SIZE)\n",
    "airdrum = load_video('airdrum.mp4', _NUM_FRAMES, _INPUT_SIZE)\n",
    "\n",
    "# Parte Custom\n",
    "framesInput = 300\n",
    "inputSize = 224\n",
    "volleyball = load_video('volleyball.mp4', framesInput, inputSize)"
   ]
  },
  {
   "cell_type": "code",
   "execution_count": null,
   "metadata": {},
   "outputs": [],
   "source": [
    "def show_video(video, num_frames):\n",
    "    plt.subplot(1, 3, 1)\n",
    "    plt.imshow(video[:, num_frames//4].squeeze())\n",
    "    plt.axis('off')\n",
    "\n",
    "    plt.subplot(1, 3, 2)\n",
    "    plt.imshow(video[:, num_frames//2].squeeze())\n",
    "    plt.axis('off')\n",
    "\n",
    "    plt.subplot(1, 3, 3)\n",
    "    plt.imshow(video[:, 3*num_frames//4].squeeze())\n",
    "    plt.axis('off')\n",
    "    plt.show()"
   ]
  },
  {
   "cell_type": "code",
   "execution_count": null,
   "metadata": {},
   "outputs": [],
   "source": [
    "show_video(abseiling, _NUM_FRAMES)\n",
    "show_video(airdrum, _NUM_FRAMES)\n",
    "\n",
    "# Custom\n",
    "show_video(volleyball, framesInput)"
   ]
  },
  {
   "cell_type": "markdown",
   "metadata": {},
   "source": [
    "## Initialize model architecture"
   ]
  },
  {
   "cell_type": "code",
   "execution_count": null,
   "metadata": {},
   "outputs": [],
   "source": [
    "inputs = tf.placeholder(tf.float32, (1, framesInput, inputSize, inputSize, 3))\n",
    "\n",
    "if _DATASET == 'kinetics_400':\n",
    "    num_classes = 400\n",
    "elif _DATASET == 'kinetics_600':\n",
    "    num_classes = 600\n",
    "\n",
    "if _NET_TYPE == 's3dg':\n",
    "    sc = s3dg.s3dg_arg_scope()\n",
    "    with arg_scope(sc):\n",
    "        net, end_points = s3dg.s3dg(inputs, num_classes, is_training=False)\n",
    "elif _NET_TYPE == 'i3d':\n",
    "    sc = i3d.i3d_arg_scope()\n",
    "    with arg_scope(sc):\n",
    "        net, end_points = i3d.i3d(inputs, num_classes, is_training=False)\n",
    "else:\n",
    "    print('Network type not supported.')"
   ]
  },
  {
   "cell_type": "markdown",
   "metadata": {},
   "source": [
    "## Load D3D weights and run model"
   ]
  },
  {
   "cell_type": "code",
   "execution_count": null,
   "metadata": {},
   "outputs": [],
   "source": [
    "saver = tf.train.Saver()\n",
    "\n",
    "with tf.Session() as sess:\n",
    "    saver.restore(sess, _MODEL_CKPT)\n",
    "    \n",
    "    # net_eval_abseiling = sess.run(net, feed_dict={inputs: abseiling})\n",
    "    # net_eval_airdrum = sess.run(net, feed_dict={inputs: airdrum})\n",
    "    start_time = time.time()\n",
    "    \n",
    "    net_eval_volley = sess.run(net, feed_dict={inputs: volleyball})\n",
    "    \n",
    "    end_time = time.time()\n",
    "    print(\"--- Execution time: %s seconds ---\" % (end_time - start_time))"
   ]
  },
  {
   "cell_type": "markdown",
   "metadata": {
    "collapsed": true
   },
   "source": [
    "## Check results\n",
    "\n",
    "\"abseiling\" and \"air drumming\" are classes 0 and 1 in Kinetics-400, respectively."
   ]
  },
  {
   "cell_type": "code",
   "execution_count": null,
   "metadata": {},
   "outputs": [],
   "source": [
    "# print(net_eval_abseiling.argmax())"
   ]
  },
  {
   "cell_type": "code",
   "execution_count": null,
   "metadata": {},
   "outputs": [],
   "source": [
    "# print(net_eval_airdrum.argmax())"
   ]
  },
  {
   "cell_type": "code",
   "execution_count": null,
   "metadata": {},
   "outputs": [],
   "source": [
    "# Custom\n",
    "print(net_eval_volley.argmax())"
   ]
  },
  {
   "cell_type": "code",
   "execution_count": null,
   "metadata": {},
   "outputs": [],
   "source": []
  }
 ],
 "metadata": {
  "kernelspec": {
   "display_name": "Python 3",
   "language": "python",
   "name": "python3"
  },
  "language_info": {
   "codemirror_mode": {
    "name": "ipython",
    "version": 3
   },
   "file_extension": ".py",
   "mimetype": "text/x-python",
   "name": "python",
   "nbconvert_exporter": "python",
   "pygments_lexer": "ipython3",
   "version": "3.6.8"
  }
 },
 "nbformat": 4,
 "nbformat_minor": 2
}
